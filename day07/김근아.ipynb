{
 "cells": [
  {
   "cell_type": "markdown",
   "metadata": {},
   "source": [
    "## 20240220 자료구조와 알고리즘 코딩테스트\n",
    "\n",
    "- 문제1"
   ]
  },
  {
   "cell_type": "code",
   "execution_count": 14,
   "metadata": {},
   "outputs": [],
   "source": [
    "# 함수선언\n",
    "def 스택풀():\n",
    "    global SIZE, stack, top\n",
    "    if (top >= SIZE -1):\n",
    "        return True\n",
    "    else:\n",
    "        return False"
   ]
  },
  {
   "cell_type": "code",
   "execution_count": 15,
   "metadata": {},
   "outputs": [],
   "source": [
    "def 스택엠티():\n",
    "    global SIZE, stack, top\n",
    "    if (top == -1):\n",
    "        return True\n",
    "    else:\n",
    "        return False"
   ]
  },
  {
   "cell_type": "code",
   "execution_count": 16,
   "metadata": {},
   "outputs": [],
   "source": [
    "def 데이터삽입(data):\n",
    "    global SIZE, stack, top\n",
    "    if (스택풀()):\n",
    "        print('스택이 꽉 찼습니다.')\n",
    "        return\n",
    "    top += 1\n",
    "    stack[top] = data"
   ]
  },
  {
   "cell_type": "code",
   "execution_count": 17,
   "metadata": {},
   "outputs": [],
   "source": [
    "def 데이터추출():\n",
    "    global SIZE, stack, top\n",
    "    if (스택엠티()):\n",
    "        print('스택이 비었습니다.')\n",
    "        return None\n",
    "    data = stack[top]\n",
    "    stack[top] = None\n",
    "    top -= 1\n",
    "    return data"
   ]
  },
  {
   "cell_type": "code",
   "execution_count": 18,
   "metadata": {},
   "outputs": [],
   "source": [
    "def 위치확인():\n",
    "    global SIZE, stack, top\n",
    "    if (스택엠티()):\n",
    "        print('스택이 비었습니다.')\n",
    "        return None\n",
    "    return stack[top]"
   ]
  },
  {
   "cell_type": "code",
   "execution_count": 21,
   "metadata": {},
   "outputs": [
    {
     "name": "stdout",
     "output_type": "stream",
     "text": [
      "스택 상태 : ['커피', None, None, None, None]\n",
      "스택 상태 : ['커피', '녹차', None, None, None]\n",
      "스택 상태 : ['커피', '녹차', '꿀물', None, None]\n",
      "스택 상태 : ['커피', '녹차', '꿀물', '아이스티', None]\n",
      "스택 상태 : ['커피', '녹차', '꿀물', '아이스티', '코코아']\n",
      "확인된 데이터 --> 코코아\n",
      "스택 상태 : ['커피', '녹차', '꿀물', '아이스티', '코코아']\n",
      "추출된 데이터 --> 코코아\n",
      "스택 상태 : ['커피', '녹차', '꿀물', '아이스티', None]\n",
      "추출된 데이터 --> 아이스티\n",
      "스택 상태 : ['커피', '녹차', '꿀물', None, None]\n",
      "추출된 데이터 --> 꿀물\n",
      "스택 상태 : ['커피', '녹차', None, None, None]\n",
      "추출된 데이터 --> 녹차\n",
      "스택 상태 : ['커피', None, None, None, None]\n",
      "추출된 데이터 --> 커피\n",
      "스택 상태 : [None, None, None, None, None]\n",
      "스택이 비었습니다.\n",
      "추출된 데이터 --> None\n",
      "스택 상태 : [None, None, None, None, None]\n",
      "프로그램 종료!\n"
     ]
    }
   ],
   "source": [
    "# 전역변수\n",
    "SIZE = int(input('스택 크기를 입력하세요 --> '))\n",
    "stack = [None for _ in range(SIZE)]\n",
    "top = -1\n",
    "\n",
    "# 메인코드\n",
    "if __name__ == '__main__':\n",
    "    select = input('삽입(I) / 추출(E) / 확인(V) / 종료(X) 중 하나를 선택 --> ')\n",
    "\n",
    "    while select.lower() != 'x':\n",
    "        if select.lower() == 'i':\n",
    "            data = input('입력 데이터 >> ')\n",
    "            데이터삽입(data)\n",
    "            print(f'스택 상태 : {stack}')\n",
    "\n",
    "        elif select.lower() == 'e':\n",
    "            data = 데이터추출()\n",
    "            print(f'추출된 데이터 --> {data}')\n",
    "            print(f'스택 상태 : {stack}')\n",
    "\n",
    "        elif select.lower() == 'v':\n",
    "            data = 위치확인()\n",
    "            print(f'확인된 데이터 --> {data}')\n",
    "            print(f'스택 상태 : {stack}')\n",
    "\n",
    "        else:\n",
    "            # print('입력이 잘못됨')\n",
    "            continue\n",
    "\n",
    "        select = input('삽입(I) / 추출(E) / 확인(V) / 종료(X) 중 하나를 선택 --> ')\n",
    "\n",
    "    print('프로그램 종료!')"
   ]
  },
  {
   "cell_type": "markdown",
   "metadata": {},
   "source": [
    "- 문제 2  /// 아무도없을때 들어갔다는 출력 빼기"
   ]
  },
  {
   "cell_type": "code",
   "execution_count": 66,
   "metadata": {},
   "outputs": [],
   "source": [
    "# 함수 선언\n",
    "def isQueueFull():\n",
    "    global SIZE,queue, front, rear\n",
    "    if rear == SIZE-1:\n",
    "        return True\n",
    "    else:\n",
    "        return False"
   ]
  },
  {
   "cell_type": "code",
   "execution_count": 20,
   "metadata": {},
   "outputs": [],
   "source": [
    "def isQueueEmpty():\n",
    "    global front, rear\n",
    "    if front == rear:\n",
    "        return True\n",
    "    else:\n",
    "        return False"
   ]
  },
  {
   "cell_type": "code",
   "execution_count": 21,
   "metadata": {},
   "outputs": [],
   "source": [
    "def enQueue(data):\n",
    "    global queue, rear\n",
    "    if isQueueFull() == True:\n",
    "        print('대기줄이 꽉 찼습니다.')\n",
    "        return \n",
    "    else:\n",
    "        rear += 1\n",
    "        queue[rear] = data"
   ]
  },
  {
   "cell_type": "code",
   "execution_count": 38,
   "metadata": {},
   "outputs": [],
   "source": [
    "def deQueue():\n",
    "    global queue, SIZE, front, rear\n",
    "    if isQueueEmpty() == True:\n",
    "        print('대기줄이 비었습니다.')\n",
    "        return\n",
    "    else:\n",
    "        front += 1\n",
    "        data = queue[front]\n",
    "        queue[front] = None\n",
    "\n",
    "        for i in range(front+1, rear+1):\n",
    "            queue[i-1] = queue[i]\n",
    "            queue[i] = None\n",
    "        front = -1\n",
    "        rear -= 1    \n",
    "        return data"
   ]
  },
  {
   "cell_type": "code",
   "execution_count": 39,
   "metadata": {},
   "outputs": [],
   "source": [
    "def peek():\n",
    "    global queue, front\n",
    "    if isQueueEmpty() == True:\n",
    "        print('대기줄이 비었습니다.')\n",
    "        return None\n",
    "    else:\n",
    "        return queue[front + 1]"
   ]
  },
  {
   "cell_type": "code",
   "execution_count": 67,
   "metadata": {},
   "outputs": [
    {
     "name": "stdout",
     "output_type": "stream",
     "text": [
      "대기줄 상태 : ['정국', None, None, None, None]\n",
      "대기줄 상태 : ['정국', '뷔', None, None, None]\n",
      "대기줄 상태 : ['정국', '뷔', '지민', None, None]\n",
      "대기줄 상태 : ['정국', '뷔', '지민', '진', None]\n",
      "대기줄 상태 : ['정국', '뷔', '지민', '진', '슈가']\n",
      "대기줄 현황 : ['정국', '뷔', '지민', '진', '슈가']\n",
      "정국 님이 식당에 들어갔습니다.\n",
      "대기줄 상태 : ['뷔', '지민', '진', '슈가', None]\n",
      "뷔 님이 식당에 들어갔습니다.\n",
      "대기줄 상태 : ['지민', '진', '슈가', None, None]\n",
      "지민 님이 식당에 들어갔습니다.\n",
      "대기줄 상태 : ['진', '슈가', None, None, None]\n",
      "진 님이 식당에 들어갔습니다.\n",
      "대기줄 상태 : ['슈가', None, None, None, None]\n",
      "슈가 님이 식당에 들어갔습니다.\n",
      "대기줄 상태 : [None, None, None, None, None]\n",
      "대기줄이 비었습니다.\n",
      "대기자가 없습니다.\n",
      "대기줄 상태 : [None, None, None, None, None]\n",
      "대기줄이 비었습니다.\n",
      "대기자가 없습니다.\n",
      "대기줄 상태 : [None, None, None, None, None]\n",
      "식당영업종료!\n"
     ]
    }
   ],
   "source": [
    "# 전역변수\n",
    "SIZE = int(input('대기줄 크기 입력 >> '))\n",
    "queue = [None for _ in range(SIZE)]\n",
    "front = rear = -1\n",
    "\n",
    "# 메인 코드\n",
    "if __name__ == '__main__':\n",
    "\n",
    "    while True:\n",
    "        select = input('대기줄입력(e) / 대기입장(i) / 대기줄확인(p) / 종료(x) >> ')\n",
    "\n",
    "        if select.lower() == 'e':\n",
    "            data = input('대기자 이름 입력 >> ')\n",
    "            enQueue(data)\n",
    "            print(f'대기줄 상태 : {queue}')\n",
    "\n",
    "        elif select.lower() == 'i':\n",
    "            data = deQueue()\n",
    "            if data != None:\n",
    "                print(f'{data} 님이 식당에 들어갔습니다.')\n",
    "                print(f'대기줄 상태 : {queue}')\n",
    "            else:\n",
    "                print('대기자가 없습니다.')\n",
    "                print(f'대기줄 상태 : {queue}')\n",
    "\n",
    "        elif select.lower() == 'p':\n",
    "            data = peek()\n",
    "            print(f'대기줄 현황 : {queue}')\n",
    "\n",
    "        elif select.lower() == 'x':\n",
    "            print('식당영업종료!')\n",
    "            break\n",
    "\n",
    "        else:\n",
    "            continue"
   ]
  },
  {
   "cell_type": "markdown",
   "metadata": {},
   "source": [
    "- 문제 3"
   ]
  },
  {
   "cell_type": "code",
   "execution_count": 60,
   "metadata": {},
   "outputs": [],
   "source": [
    "import random"
   ]
  },
  {
   "cell_type": "code",
   "execution_count": 61,
   "metadata": {},
   "outputs": [],
   "source": [
    "# 클래스선언\n",
    "class TreeNode():\n",
    "    left = data = right = None\n",
    "\n",
    "    def __init__(self) -> None:\n",
    "        self.left = self.right = self.data = None        "
   ]
  },
  {
   "cell_type": "code",
   "execution_count": 62,
   "metadata": {},
   "outputs": [],
   "source": [
    "# 전위순회 함수\n",
    "def preorder(node):\n",
    "    if node == None: return\n",
    "    \n",
    "    print(node.data, end=' ')\n",
    "    preorder(node.left)\n",
    "    preorder(node.right)"
   ]
  },
  {
   "cell_type": "code",
   "execution_count": 71,
   "metadata": {},
   "outputs": [
    {
     "name": "stdout",
     "output_type": "stream",
     "text": [
      "이진탐색트리 구성완료!\n",
      "상품 목록(중복O) -->  ['라면', '초콜릿', '레쓰비', '펩시', '컵라면', '삼다수', '펩시', '껌', '삼다수', '삼다수', '삼각김밥', '껌', '초콜릿', '삼각김밥', '라면', '레쓰비', '껌', '껌', '코카콜라', '도시락']\n",
      "오늘 판매된 상품 목록(중복x) -->  라면 껌 도시락 초콜릿 레쓰비 삼다수 삼각김밥 펩시 컵라면 코카콜라 "
     ]
    }
   ],
   "source": [
    "# 전역변수\n",
    "memory = []\n",
    "root = None\n",
    "dataAry = input('상품 입력 >> ').split()\n",
    "sellAry = [random.choice(dataAry) for _ in range(20)]\n",
    "\n",
    "## 메인코드\n",
    "node = TreeNode()\n",
    "node.data = sellAry[0]\n",
    "root = node\n",
    "memory.append(node)\n",
    "\n",
    "for name in sellAry[1:]:\n",
    "    node = TreeNode()\n",
    "    node.data = name\n",
    "\n",
    "    current = root\n",
    "    while True:\n",
    "        if name == current.data:\n",
    "            break\n",
    "        if name < current.data:\n",
    "            if current.left == None:\n",
    "                current.left = node\n",
    "                memory.append(node)\n",
    "                break\n",
    "            else:\n",
    "                current = current.left\n",
    "        else:\n",
    "            if current.right == None:\n",
    "                current.right = node\n",
    "                memory.append(node)\n",
    "                break\n",
    "            else:\n",
    "                current = current.right\n",
    "\n",
    "print('이진탐색트리 구성완료!')\n",
    "\n",
    "while True:\n",
    "    select = input('판매된 상품(e) / 판매된 상품 목록(p) / 종료(x) --> ')\n",
    "    \n",
    "    if  select.lower() == 'e':\n",
    "        data = sellAry\n",
    "        print('상품 목록(중복O) --> ', sellAry)\n",
    "        \n",
    "    elif select.lower() == 'p':\n",
    "        sellAry = [random.choice(dataAry) for _ in range(20)]\n",
    "        print('오늘 판매된 상품 목록(중복x) --> ', end=' ')\n",
    "        preorder(root)\n",
    "    \n",
    "    elif select.lower() == 'x':\n",
    "        break"
   ]
  }
 ],
 "metadata": {
  "kernelspec": {
   "display_name": "Python 3",
   "language": "python",
   "name": "python3"
  },
  "language_info": {
   "codemirror_mode": {
    "name": "ipython",
    "version": 3
   },
   "file_extension": ".py",
   "mimetype": "text/x-python",
   "name": "python",
   "nbconvert_exporter": "python",
   "pygments_lexer": "ipython3",
   "version": "3.11.5"
  }
 },
 "nbformat": 4,
 "nbformat_minor": 2
}
