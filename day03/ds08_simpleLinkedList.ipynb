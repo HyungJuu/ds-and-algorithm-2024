{
 "cells": [
  {
   "cell_type": "code",
   "execution_count": 117,
   "metadata": {},
   "outputs": [],
   "source": [
    "# file : ds08_simpleLinkedList.ipynb\n",
    "# desc : 연결리스트 학습 다시"
   ]
  },
  {
   "cell_type": "markdown",
   "metadata": {},
   "source": [
    "## 자료구조 / 알고리즘\n",
    "\n",
    "- 단순 연결 리스트 다시 학습\n",
    "\n",
    "### 단순 연결 리스트\n",
    "1. 클래스 생성\n",
    "    - 클래스 구조\n",
    "\n",
    "|data|node|\n",
    "|---|---|"
   ]
  },
  {
   "cell_type": "code",
   "execution_count": 118,
   "metadata": {},
   "outputs": [],
   "source": [
    "# 노드 클래스\n",
    "class Node():\n",
    "    data = None # 실제 데이터 변수\n",
    "    link = None # 다음 노드를 지정하는 변수\n",
    "\n",
    "    def __init__(self) -> None:\n",
    "        self.data = None # 클래스 사진이 self이므로 클래스 변수에 접근하려면 반드시 self.\n",
    "        self.link = None"
   ]
  },
  {
   "cell_type": "markdown",
   "metadata": {},
   "source": [
    "2. 변수 선언"
   ]
  },
  {
   "cell_type": "code",
   "execution_count": 119,
   "metadata": {},
   "outputs": [],
   "source": [
    "memory = []\n",
    "head = None # 연결리스트의 가장 첫번째 노드를 알려주는 변수 / Node 객체가 할당\n",
    "prev = None # 현재 처리중인 노드의 바로 앞 노드를 지정하는 변수\n",
    "curr = None # 현재 처리중인 노드를 지정하는 변수"
   ]
  },
  {
   "cell_type": "code",
   "execution_count": 120,
   "metadata": {},
   "outputs": [],
   "source": [
    "# 연결 데이터 순서 : 다현, 정연, 쯔위, 사나, 지효...\n",
    "# 추가 데이터 : 재남, 화사, 솔라, 문별\n",
    "# 삭제 데이터 : 다현, 쯔위"
   ]
  },
  {
   "cell_type": "code",
   "execution_count": 121,
   "metadata": {},
   "outputs": [],
   "source": [
    "node = Node() #  Node 객체 생성\n",
    "node.data = '다현'\n",
    "head = node # 변수 node를 변수 head에 할당, head는 첫번째 노드 '다현'을 가리킨다."
   ]
  },
  {
   "cell_type": "code",
   "execution_count": 122,
   "metadata": {},
   "outputs": [],
   "source": [
    "prev = node # 현재 node 객체를 prev 변수에 지정. prev가 현재 node 객체를 가리킨다.\n",
    "node = Node() # '다현'을 들고있는 node는 이미 head, prev에다 지정했기 때문에 다시 '정연'을 담을 새 node 생성\n",
    "node.data = '정연'\n",
    "prev.link = node # '다현'을 들고 있는 prev(==node 객체와 동일)의 다음 node가 '정연'인 것을 알려줌(지정)"
   ]
  },
  {
   "cell_type": "code",
   "execution_count": 123,
   "metadata": {},
   "outputs": [],
   "source": [
    "prev = node\n",
    "node = Node() \n",
    "node.data = '쯔위'\n",
    "prev.link = node"
   ]
  },
  {
   "cell_type": "markdown",
   "metadata": {},
   "source": [
    "3. 연결 리스트 출력 함수 선언"
   ]
  },
  {
   "cell_type": "code",
   "execution_count": 124,
   "metadata": {},
   "outputs": [],
   "source": [
    "def printNodes(start): # start부터 시작해서 끝까지 노드.data 출력\n",
    "    curr = start # start == head\n",
    "    if curr == None: return # break, continue는 반복문에서 사용\n",
    "    while True:\n",
    "        if curr.link == None: # 연결할 노드가 더이상 없으면\n",
    "            print(curr.data) # 자기 데이터만 출력하고\n",
    "            break # 반복문 탈출\n",
    "        else:\n",
    "            print(curr.data, end=' -> ') # 연결할 노드가 있으면 연결표기(->)를 해주고\n",
    "            curr = curr.link # 자기 뒤의 데이터를 curr로 바꿔줌"
   ]
  },
  {
   "cell_type": "code",
   "execution_count": 125,
   "metadata": {},
   "outputs": [
    {
     "name": "stdout",
     "output_type": "stream",
     "text": [
      "다현 -> 정연 -> 쯔위\n"
     ]
    }
   ],
   "source": [
    "printNodes(head)"
   ]
  },
  {
   "cell_type": "code",
   "execution_count": 126,
   "metadata": {},
   "outputs": [],
   "source": [
    "originData = ['다현', '정연', '쯔위', '사나', '지효']"
   ]
  },
  {
   "cell_type": "code",
   "execution_count": 127,
   "metadata": {},
   "outputs": [
    {
     "data": {
      "text/plain": [
       "'다현'"
      ]
     },
     "execution_count": 127,
     "metadata": {},
     "output_type": "execute_result"
    }
   ],
   "source": [
    "originData[0]"
   ]
  },
  {
   "cell_type": "code",
   "execution_count": 128,
   "metadata": {},
   "outputs": [
    {
     "data": {
      "text/plain": [
       "['정연', '쯔위', '사나', '지효']"
      ]
     },
     "execution_count": 128,
     "metadata": {},
     "output_type": "execute_result"
    }
   ],
   "source": [
    "originData[1:] # == originData[1:len(originData)] : 뒤를 생략"
   ]
  },
  {
   "cell_type": "markdown",
   "metadata": {},
   "source": [
    "4. 연결리스트 맨 앞에 노드 삽입"
   ]
  },
  {
   "cell_type": "code",
   "execution_count": 129,
   "metadata": {},
   "outputs": [
    {
     "name": "stdout",
     "output_type": "stream",
     "text": [
      "다현 -> 정연 -> 쯔위\n"
     ]
    }
   ],
   "source": [
    "printNodes(head)"
   ]
  },
  {
   "cell_type": "code",
   "execution_count": 130,
   "metadata": {},
   "outputs": [],
   "source": [
    "prev = node\n",
    "node = Node()\n",
    "node.data = '사나'\n",
    "prev.link = node"
   ]
  },
  {
   "cell_type": "code",
   "execution_count": 131,
   "metadata": {},
   "outputs": [],
   "source": [
    "prev = node\n",
    "node = Node()\n",
    "node.data = '지효'\n",
    "prev.link = node"
   ]
  },
  {
   "cell_type": "code",
   "execution_count": 132,
   "metadata": {},
   "outputs": [
    {
     "name": "stdout",
     "output_type": "stream",
     "text": [
      "다현 -> 정연 -> 쯔위 -> 사나 -> 지효\n"
     ]
    }
   ],
   "source": [
    "printNodes(head)"
   ]
  },
  {
   "cell_type": "code",
   "execution_count": 133,
   "metadata": {},
   "outputs": [],
   "source": [
    "node = Node()\n",
    "node.data = '화사'\n",
    "node.link = head # 현재 '다현'을 가리킴\n",
    "head = node # head가 변경"
   ]
  },
  {
   "cell_type": "code",
   "execution_count": 134,
   "metadata": {},
   "outputs": [
    {
     "name": "stdout",
     "output_type": "stream",
     "text": [
      "화사 -> 다현 -> 정연 -> 쯔위 -> 사나 -> 지효\n"
     ]
    }
   ],
   "source": [
    "printNodes(head)"
   ]
  },
  {
   "cell_type": "markdown",
   "metadata": {},
   "source": [
    "5. 연결리스트 중간에 새 노드 삽입"
   ]
  },
  {
   "cell_type": "code",
   "execution_count": 135,
   "metadata": {},
   "outputs": [],
   "source": [
    "curr = head # curr가 처음으로 이동\n",
    "\n",
    "while curr.link != None:\n",
    "    prev = curr # prev와 curr가 같은 노드를 가리킴\n",
    "    curr = curr.link # curr가 가리키는 다음 값을 curr로 지정(prev는 앞에 있고 curr가 뒤로 한칸 넘어감)\n",
    "\n",
    "    if curr.data == '사나':\n",
    "        node = Node()\n",
    "        node.data = '솔라'\n",
    "        node.link = curr # '사나' node 앞에 '솔라' node를 연결\n",
    "        prev.link = node # '솔라' node가 prev.link에 연결"
   ]
  },
  {
   "cell_type": "code",
   "execution_count": 136,
   "metadata": {},
   "outputs": [
    {
     "name": "stdout",
     "output_type": "stream",
     "text": [
      "화사 -> 다현 -> 정연 -> 쯔위 -> 솔라 -> 사나 -> 지효\n"
     ]
    }
   ],
   "source": [
    "printNodes(head)"
   ]
  },
  {
   "cell_type": "markdown",
   "metadata": {},
   "source": [
    "6. 연결리스트 마지막에 새 노드 삽입"
   ]
  },
  {
   "cell_type": "code",
   "execution_count": 137,
   "metadata": {},
   "outputs": [],
   "source": [
    "node = Node()\n",
    "node.data = '문별'\n",
    "curr.link = node"
   ]
  },
  {
   "cell_type": "code",
   "execution_count": 138,
   "metadata": {},
   "outputs": [
    {
     "name": "stdout",
     "output_type": "stream",
     "text": [
      "화사 -> 다현 -> 정연 -> 쯔위 -> 솔라 -> 사나 -> 지효 -> 문별\n"
     ]
    }
   ],
   "source": [
    "printNodes(head)"
   ]
  },
  {
   "cell_type": "markdown",
   "metadata": {},
   "source": [
    "#### 정리\n",
    "- 맨앞, 중간에 삽입하는 것 : 파이썬 list.insert(index, data)와 동일\n",
    "- 맨뒤 삽입하는 것 : 파이썬 list.append(data)와 동일"
   ]
  },
  {
   "cell_type": "markdown",
   "metadata": {},
   "source": [
    "7.첫번째 노드 삭제"
   ]
  },
  {
   "cell_type": "code",
   "execution_count": 139,
   "metadata": {},
   "outputs": [],
   "source": [
    "curr = head\n",
    "head = head.link"
   ]
  },
  {
   "cell_type": "code",
   "execution_count": 140,
   "metadata": {},
   "outputs": [],
   "source": [
    "del(curr)"
   ]
  },
  {
   "cell_type": "code",
   "execution_count": 141,
   "metadata": {},
   "outputs": [
    {
     "name": "stdout",
     "output_type": "stream",
     "text": [
      "다현 -> 정연 -> 쯔위 -> 솔라 -> 사나 -> 지효 -> 문별\n"
     ]
    }
   ],
   "source": [
    "printNodes(head)"
   ]
  },
  {
   "cell_type": "markdown",
   "metadata": {},
   "source": [
    "8. 첫번째 외 노드 삭제"
   ]
  },
  {
   "cell_type": "code",
   "execution_count": 146,
   "metadata": {},
   "outputs": [],
   "source": [
    "curr = head\n",
    "\n",
    "while curr.link != None:\n",
    "    prev = curr\n",
    "    curr = curr.link\n",
    "\n",
    "    if curr.data == '문별': # 문별 노드 삭제\n",
    "        prev.link = curr.link\n",
    "        # curr.link = None # 굳이 필요하지는 않음\n",
    "        del(curr)"
   ]
  },
  {
   "cell_type": "code",
   "execution_count": 145,
   "metadata": {},
   "outputs": [
    {
     "name": "stdout",
     "output_type": "stream",
     "text": [
      "다현 -> 정연 -> 솔라 -> 사나 -> 지효\n"
     ]
    }
   ],
   "source": [
    "printNodes(head)"
   ]
  },
  {
   "cell_type": "markdown",
   "metadata": {},
   "source": [
    "9. 노드 검색"
   ]
  },
  {
   "cell_type": "code",
   "execution_count": 150,
   "metadata": {},
   "outputs": [],
   "source": [
    "find = '재남'\n",
    "\n",
    "curr = head # curr는 사용되는 변수라서 이 작업을 항상 해줘야 함\n",
    "if curr.data == find:\n",
    "    print(curr.data) # 함수가 아니라서 return 쓸수 없음\n",
    "\n",
    "while curr.link != None:\n",
    "    curr = curr.link # 다음 노드로 넘김\n",
    "    if curr.data == find:\n",
    "        print(curr.data)"
   ]
  },
  {
   "cell_type": "markdown",
   "metadata": {},
   "source": [
    "#### 정리\n",
    "- 노드 검색은 파이썬 리스트, list.index(), list.count()와 유사"
   ]
  },
  {
   "cell_type": "code",
   "execution_count": 153,
   "metadata": {},
   "outputs": [
    {
     "data": {
      "text/plain": [
       "['다현', '정연', '쯔위', '사나', '지효']"
      ]
     },
     "execution_count": 153,
     "metadata": {},
     "output_type": "execute_result"
    }
   ],
   "source": [
    "originData"
   ]
  },
  {
   "cell_type": "code",
   "execution_count": 159,
   "metadata": {},
   "outputs": [
    {
     "data": {
      "text/plain": [
       "0"
      ]
     },
     "execution_count": 159,
     "metadata": {},
     "output_type": "execute_result"
    }
   ],
   "source": [
    "originData.index('다현')"
   ]
  },
  {
   "cell_type": "code",
   "execution_count": 158,
   "metadata": {},
   "outputs": [
    {
     "data": {
      "text/plain": [
       "0"
      ]
     },
     "execution_count": 158,
     "metadata": {},
     "output_type": "execute_result"
    }
   ],
   "source": [
    "originData.count('재남') # 없으면 0"
   ]
  }
 ],
 "metadata": {
  "kernelspec": {
   "display_name": "Python 3",
   "language": "python",
   "name": "python3"
  },
  "language_info": {
   "codemirror_mode": {
    "name": "ipython",
    "version": 3
   },
   "file_extension": ".py",
   "mimetype": "text/x-python",
   "name": "python",
   "nbconvert_exporter": "python",
   "pygments_lexer": "ipython3",
   "version": "3.11.5"
  }
 },
 "nbformat": 4,
 "nbformat_minor": 2
}
